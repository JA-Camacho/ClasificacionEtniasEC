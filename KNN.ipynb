{
  "nbformat": 4,
  "nbformat_minor": 0,
  "metadata": {
    "colab": {
      "provenance": []
    },
    "kernelspec": {
      "name": "python3",
      "display_name": "Python 3"
    },
    "language_info": {
      "name": "python"
    }
  },
  "cells": [
    {
      "cell_type": "code",
      "execution_count": null,
      "metadata": {
        "colab": {
          "base_uri": "https://localhost:8080/"
        },
        "id": "zEaDI-uirrkC",
        "outputId": "1c194b62-8018-4abe-db92-c72a6770ca36"
      },
      "outputs": [
        {
          "output_type": "stream",
          "name": "stdout",
          "text": [
            "Drive already mounted at /content/drive; to attempt to forcibly remount, call drive.mount(\"/content/drive\", force_remount=True).\n"
          ]
        }
      ],
      "source": [
        "import cv2\n",
        "import numpy as np\n",
        "from sklearn import svm\n",
        "from sklearn.model_selection import train_test_split\n",
        "import os\n",
        "import cv2\n",
        "import numpy as np\n",
        "from google.colab import drive\n",
        "\n",
        "drive.mount('/content/drive')\n",
        "\n",
        "# Ruta de la carpeta donde se encuentran las imágenes\n",
        "ruta_imagenes = '/content/drive/MyDrive/Colab Notebooks/PROYECTO/AllClases/'\n",
        "\n",
        "# Lista para almacenar las imágenes\n",
        "imagenes = []\n",
        "\n",
        "# Lista para almacenar las etiquetas\n",
        "etiquetas = []\n",
        "\n",
        "# Obtener una lista de todos los archivos en la carpeta\n",
        "archivos = os.listdir(ruta_imagenes)\n",
        "\n",
        "def umbralizar(imagen):\n",
        "    # Verificar si la imagen se leyó correctamente\n",
        "    if imagen is None:\n",
        "        print(\"No se pudo leer la imagen.\")\n",
        "        return None\n",
        "\n",
        "    # Umbralizar y luego invertir los valores de los píxeles\n",
        "    imagen_binarizada = np.where(imagen > 127, 255, 0).astype(np.uint8)\n",
        "    return imagen_binarizada\n",
        "\n",
        "# Recorrer todos los archivos\n",
        "for archivo in archivos:\n",
        "  # Verificar si el archivo es una imagen\n",
        "  if archivo.endswith(\".JPG\"):\n",
        "    # Leer la imagen en escala de grises\n",
        "    imagen = cv2.imread(os.path.join(ruta_imagenes, archivo),0)\n",
        "     # Obtener la etiqueta de la imagen\n",
        "    etiqueta = archivo.split(\"_\")[0]\n",
        "\n",
        "    # Agregar la imagen y la etiqueta a las listas correspondientes\n",
        "    imagenes.append(umbralizar(imagen))\n",
        "    etiquetas.append(etiqueta)"
      ]
    },
    {
      "cell_type": "code",
      "source": [
        "import cv2\n",
        "import numpy as np\n",
        "from sklearn.model_selection import train_test_split\n",
        "from sklearn.neighbors import KNeighborsClassifier\n",
        "from sklearn.metrics import accuracy_score\n",
        "from sklearn.preprocessing import LabelEncoder\n",
        "\n",
        "# Función para extraer descriptores SIFT de una imagen\n",
        "def extract_sift_descriptors(image):\n",
        "    sift = cv2.SIFT_create()\n",
        "    _, descriptors = sift.detectAndCompute(image, None)\n",
        "    return descriptors\n",
        "\n",
        "# Supongamos que tienes un array 'images' con las imágenes y un array 'labels' con las etiquetas\n",
        "# Asegúrate de que las imágenes tengan el mismo tamaño\n",
        "\n",
        "# Crear listas para almacenar los descriptores y las etiquetas de cada imagen\n",
        "descriptors_list = []\n",
        "labels_list = []\n",
        "\n",
        "# Extraer los descriptores SIFT y las etiquetas de cada imagen\n",
        "for image, label in zip(imagenes, etiquetas):\n",
        "    sift_descriptors = extract_sift_descriptors(image)\n",
        "    descriptors_list.extend(sift_descriptors)\n",
        "    labels_list.extend([label] * len(sift_descriptors))\n",
        "\n",
        "# Convertir las listas a arrays de NumPy\n",
        "descriptors = np.vstack(descriptors_list)\n",
        "labels = np.array(labels_list)\n",
        "\n",
        "# Convertir etiquetas de texto a etiquetas numéricas\n",
        "label_encoder = LabelEncoder()\n",
        "labels_numeric = label_encoder.fit_transform(labels)\n",
        "\n",
        "# Dividir los datos en conjuntos de entrenamiento y prueba\n",
        "X_train, X_test, y_train, y_test = train_test_split(descriptors, labels_numeric, test_size=0.2, random_state=42)\n",
        "\n",
        "# Crear un modelo k-NN\n",
        "knn_model = KNeighborsClassifier(n_neighbors=5)\n",
        "knn_model.fit(X_train, y_train)\n",
        "\n",
        "# Realizar predicciones en el conjunto de prueba\n",
        "y_pred = knn_model.predict(X_test)\n",
        "\n",
        "# Calcular la precisión del modelo\n",
        "accuracy = accuracy_score(y_test, y_pred)\n",
        "print(f\"Accuracy: {accuracy}\")\n"
      ],
      "metadata": {
        "colab": {
          "base_uri": "https://localhost:8080/"
        },
        "id": "zr33h1gbr3Vc",
        "outputId": "f21cf0a0-32f0-4e7b-b2e2-e352d871aeac"
      },
      "execution_count": null,
      "outputs": [
        {
          "output_type": "stream",
          "name": "stdout",
          "text": [
            "Accuracy: 0.5721582866637946\n"
          ]
        }
      ]
    }
  ]
}